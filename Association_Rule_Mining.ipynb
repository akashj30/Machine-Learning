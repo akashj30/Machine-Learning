{
  "nbformat": 4,
  "nbformat_minor": 0,
  "metadata": {
    "colab": {
      "provenance": [],
      "authorship_tag": "ABX9TyOF4ri0h/PnnJtudwWdnq/P",
      "include_colab_link": true
    },
    "kernelspec": {
      "name": "python3",
      "display_name": "Python 3"
    },
    "language_info": {
      "name": "python"
    }
  },
  "cells": [
    {
      "cell_type": "markdown",
      "metadata": {
        "id": "view-in-github",
        "colab_type": "text"
      },
      "source": [
        "<a href=\"https://colab.research.google.com/github/akashj30/Machine-Learning/blob/main/Association_Rule_Mining.ipynb\" target=\"_parent\"><img src=\"https://colab.research.google.com/assets/colab-badge.svg\" alt=\"Open In Colab\"/></a>"
      ]
    },
    {
      "cell_type": "markdown",
      "source": [
        "### Association Rule Mining"
      ],
      "metadata": {
        "id": "L-wHKNNjf_lF"
      }
    },
    {
      "cell_type": "code",
      "execution_count": 1,
      "metadata": {
        "colab": {
          "base_uri": "https://localhost:8080/"
        },
        "id": "btpOic4qf5zV",
        "outputId": "470b228c-2397-4b4f-bbb1-8ef827190698"
      },
      "outputs": [
        {
          "output_type": "stream",
          "name": "stdout",
          "text": [
            "Requirement already satisfied: apyori in /usr/local/lib/python3.10/dist-packages (1.1.2)\n"
          ]
        }
      ],
      "source": [
        "%pip install apyori"
      ]
    },
    {
      "cell_type": "markdown",
      "source": [
        "### Step 1: Reading the file\n"
      ],
      "metadata": {
        "id": "QrOMjAs7lg0u"
      }
    },
    {
      "cell_type": "code",
      "source": [
        "url = \"https://raw.githubusercontent.com/utkarshg1/Neural-Net-Datasets/main/store_data.csv\"\n",
        "print(url)"
      ],
      "metadata": {
        "colab": {
          "base_uri": "https://localhost:8080/"
        },
        "id": "6qW_mntzf77o",
        "outputId": "529eb56e-72fc-4a16-f920-02ddb8307fe1"
      },
      "execution_count": 2,
      "outputs": [
        {
          "output_type": "stream",
          "name": "stdout",
          "text": [
            "https://raw.githubusercontent.com/utkarshg1/Neural-Net-Datasets/main/store_data.csv\n"
          ]
        }
      ]
    },
    {
      "cell_type": "code",
      "source": [
        "from urllib.request import urlretrieve\n",
        "urlretrieve(url, \"store_data.csv\")"
      ],
      "metadata": {
        "colab": {
          "base_uri": "https://localhost:8080/"
        },
        "id": "CY_BD1TNf7-g",
        "outputId": "3c7c0d30-6f56-4967-bb6d-878094ee4e83"
      },
      "execution_count": 3,
      "outputs": [
        {
          "output_type": "execute_result",
          "data": {
            "text/plain": [
              "('store_data.csv', <http.client.HTTPMessage at 0x7837fcde22f0>)"
            ]
          },
          "metadata": {},
          "execution_count": 3
        }
      ]
    },
    {
      "cell_type": "code",
      "source": [
        "\n",
        "with open(\"/content/store_data.csv\", \"r\") as f:\n",
        "    data = f.readlines()"
      ],
      "metadata": {
        "id": "tWsZ7mpMf8Bl"
      },
      "execution_count": 4,
      "outputs": []
    },
    {
      "cell_type": "code",
      "source": [
        "data[0:5]\n"
      ],
      "metadata": {
        "colab": {
          "base_uri": "https://localhost:8080/"
        },
        "id": "Wklqhxdhf8Ei",
        "outputId": "bec5ce40-c049-48dc-acde-d6f454a78b88"
      },
      "execution_count": 5,
      "outputs": [
        {
          "output_type": "execute_result",
          "data": {
            "text/plain": [
              "['shrimp,almonds,avocado,vegetables mix,green grapes,whole weat flour,yams,cottage cheese,energy drink,tomato juice,low fat yogurt,green tea,honey,salad,mineral water,salmon,antioxydant juice,frozen smoothie,spinach,olive oil\\n',\n",
              " 'burgers,meatballs,eggs\\n',\n",
              " 'chutney\\n',\n",
              " 'turkey,avocado\\n',\n",
              " 'mineral water,milk,energy bar,whole wheat rice,green tea\\n']"
            ]
          },
          "metadata": {},
          "execution_count": 5
        }
      ]
    },
    {
      "cell_type": "code",
      "source": [
        "data[0].strip().split(\",\")\n"
      ],
      "metadata": {
        "colab": {
          "base_uri": "https://localhost:8080/"
        },
        "id": "QVvTy6--f8Hk",
        "outputId": "f5f9de9e-ffaf-4d34-e543-5ef10d24d867"
      },
      "execution_count": 6,
      "outputs": [
        {
          "output_type": "execute_result",
          "data": {
            "text/plain": [
              "['shrimp',\n",
              " 'almonds',\n",
              " 'avocado',\n",
              " 'vegetables mix',\n",
              " 'green grapes',\n",
              " 'whole weat flour',\n",
              " 'yams',\n",
              " 'cottage cheese',\n",
              " 'energy drink',\n",
              " 'tomato juice',\n",
              " 'low fat yogurt',\n",
              " 'green tea',\n",
              " 'honey',\n",
              " 'salad',\n",
              " 'mineral water',\n",
              " 'salmon',\n",
              " 'antioxydant juice',\n",
              " 'frozen smoothie',\n",
              " 'spinach',\n",
              " 'olive oil']"
            ]
          },
          "metadata": {},
          "execution_count": 6
        }
      ]
    },
    {
      "cell_type": "code",
      "source": [
        "transactions = [i.strip().split(\",\") for i in data]\n",
        "transactions[0:5]"
      ],
      "metadata": {
        "colab": {
          "base_uri": "https://localhost:8080/"
        },
        "id": "hfaIAAcDf8Kg",
        "outputId": "da216639-1203-46c4-bd6b-8a5c3237c9a2"
      },
      "execution_count": 7,
      "outputs": [
        {
          "output_type": "execute_result",
          "data": {
            "text/plain": [
              "[['shrimp',\n",
              "  'almonds',\n",
              "  'avocado',\n",
              "  'vegetables mix',\n",
              "  'green grapes',\n",
              "  'whole weat flour',\n",
              "  'yams',\n",
              "  'cottage cheese',\n",
              "  'energy drink',\n",
              "  'tomato juice',\n",
              "  'low fat yogurt',\n",
              "  'green tea',\n",
              "  'honey',\n",
              "  'salad',\n",
              "  'mineral water',\n",
              "  'salmon',\n",
              "  'antioxydant juice',\n",
              "  'frozen smoothie',\n",
              "  'spinach',\n",
              "  'olive oil'],\n",
              " ['burgers', 'meatballs', 'eggs'],\n",
              " ['chutney'],\n",
              " ['turkey', 'avocado'],\n",
              " ['mineral water', 'milk', 'energy bar', 'whole wheat rice', 'green tea']]"
            ]
          },
          "metadata": {},
          "execution_count": 7
        }
      ]
    },
    {
      "cell_type": "markdown",
      "source": [
        "### Apply Apriori algorithm\n"
      ],
      "metadata": {
        "id": "3-xaiGzBmj7U"
      }
    },
    {
      "cell_type": "markdown",
      "source": [
        "### This data is weekly data, i want those items which are purchased atleast 5 times a day, it should be purchased 5*7 = 35 times a week"
      ],
      "metadata": {
        "id": "K6GTRD2qmm26"
      }
    },
    {
      "cell_type": "code",
      "source": [
        "len(transactions)\n"
      ],
      "metadata": {
        "colab": {
          "base_uri": "https://localhost:8080/"
        },
        "id": "x7o048E8f8Nj",
        "outputId": "cd2ac305-d0d7-466f-b8e9-5a463753cc79"
      },
      "execution_count": 8,
      "outputs": [
        {
          "output_type": "execute_result",
          "data": {
            "text/plain": [
              "7501"
            ]
          },
          "metadata": {},
          "execution_count": 8
        }
      ]
    },
    {
      "cell_type": "code",
      "source": [
        "sup = 35/len(transactions)\n",
        "sup"
      ],
      "metadata": {
        "colab": {
          "base_uri": "https://localhost:8080/"
        },
        "id": "jIbR-6gHf8Qw",
        "outputId": "18ab2e6c-cc82-4761-ccec-c1303dee84cf"
      },
      "execution_count": 9,
      "outputs": [
        {
          "output_type": "execute_result",
          "data": {
            "text/plain": [
              "0.004666044527396347"
            ]
          },
          "metadata": {},
          "execution_count": 9
        }
      ]
    },
    {
      "cell_type": "code",
      "source": [
        "\n",
        "from apyori import apriori\n",
        "rules = apriori(\n",
        "    transactions,\n",
        "    min_support = sup,\n",
        "    min_confidence = 0.2,\n",
        "    min_lift = 3\n",
        ")\n",
        "results = list(rules)"
      ],
      "metadata": {
        "id": "7XYK3Uz8f8T3"
      },
      "execution_count": 10,
      "outputs": []
    },
    {
      "cell_type": "code",
      "source": [
        "results\n"
      ],
      "metadata": {
        "colab": {
          "base_uri": "https://localhost:8080/"
        },
        "id": "zamIVMtvf8XB",
        "outputId": "663bfa4d-54cb-45e9-c2b7-81a876d1ff76"
      },
      "execution_count": 11,
      "outputs": [
        {
          "output_type": "execute_result",
          "data": {
            "text/plain": [
              "[RelationRecord(items=frozenset({'mushroom cream sauce', 'escalope'}), support=0.005732568990801226, ordered_statistics=[OrderedStatistic(items_base=frozenset({'mushroom cream sauce'}), items_add=frozenset({'escalope'}), confidence=0.3006993006993007, lift=3.790832696715049)]),\n",
              " RelationRecord(items=frozenset({'pasta', 'escalope'}), support=0.005865884548726837, ordered_statistics=[OrderedStatistic(items_base=frozenset({'pasta'}), items_add=frozenset({'escalope'}), confidence=0.3728813559322034, lift=4.700811850163794)]),\n",
              " RelationRecord(items=frozenset({'herb & pepper', 'ground beef'}), support=0.015997866951073192, ordered_statistics=[OrderedStatistic(items_base=frozenset({'herb & pepper'}), items_add=frozenset({'ground beef'}), confidence=0.3234501347708895, lift=3.2919938411349285)]),\n",
              " RelationRecord(items=frozenset({'ground beef', 'tomato sauce'}), support=0.005332622317024397, ordered_statistics=[OrderedStatistic(items_base=frozenset({'tomato sauce'}), items_add=frozenset({'ground beef'}), confidence=0.3773584905660377, lift=3.840659481324083)]),\n",
              " RelationRecord(items=frozenset({'olive oil', 'whole wheat pasta'}), support=0.007998933475536596, ordered_statistics=[OrderedStatistic(items_base=frozenset({'whole wheat pasta'}), items_add=frozenset({'olive oil'}), confidence=0.2714932126696833, lift=4.122410097642296)]),\n",
              " RelationRecord(items=frozenset({'shrimp', 'pasta'}), support=0.005065991201173177, ordered_statistics=[OrderedStatistic(items_base=frozenset({'pasta'}), items_add=frozenset({'shrimp'}), confidence=0.3220338983050847, lift=4.506672147735896)]),\n",
              " RelationRecord(items=frozenset({'shrimp', 'frozen vegetables', 'chocolate'}), support=0.005332622317024397, ordered_statistics=[OrderedStatistic(items_base=frozenset({'frozen vegetables', 'chocolate'}), items_add=frozenset({'shrimp'}), confidence=0.23255813953488375, lift=3.2545123221103784), OrderedStatistic(items_base=frozenset({'shrimp', 'chocolate'}), items_add=frozenset({'frozen vegetables'}), confidence=0.29629629629629634, lift=3.1084175084175087)]),\n",
              " RelationRecord(items=frozenset({'spaghetti', 'cooking oil', 'ground beef'}), support=0.004799360085321957, ordered_statistics=[OrderedStatistic(items_base=frozenset({'cooking oil', 'ground beef'}), items_add=frozenset({'spaghetti'}), confidence=0.5714285714285714, lift=3.2819951870487856), OrderedStatistic(items_base=frozenset({'spaghetti', 'cooking oil'}), items_add=frozenset({'ground beef'}), confidence=0.3025210084033613, lift=3.0789824749438446)]),\n",
              " RelationRecord(items=frozenset({'spaghetti', 'frozen vegetables', 'ground beef'}), support=0.008665511265164644, ordered_statistics=[OrderedStatistic(items_base=frozenset({'spaghetti', 'frozen vegetables'}), items_add=frozenset({'ground beef'}), confidence=0.31100478468899523, lift=3.165328208890303)]),\n",
              " RelationRecord(items=frozenset({'frozen vegetables', 'milk', 'olive oil'}), support=0.004799360085321957, ordered_statistics=[OrderedStatistic(items_base=frozenset({'frozen vegetables', 'milk'}), items_add=frozenset({'olive oil'}), confidence=0.20338983050847456, lift=3.088314005352364), OrderedStatistic(items_base=frozenset({'frozen vegetables', 'olive oil'}), items_add=frozenset({'milk'}), confidence=0.4235294117647058, lift=3.2684095860566447)]),\n",
              " RelationRecord(items=frozenset({'mineral water', 'frozen vegetables', 'shrimp'}), support=0.007199040127982935, ordered_statistics=[OrderedStatistic(items_base=frozenset({'mineral water', 'shrimp'}), items_add=frozenset({'frozen vegetables'}), confidence=0.30508474576271183, lift=3.200616332819722)]),\n",
              " RelationRecord(items=frozenset({'spaghetti', 'frozen vegetables', 'olive oil'}), support=0.005732568990801226, ordered_statistics=[OrderedStatistic(items_base=frozenset({'spaghetti', 'frozen vegetables'}), items_add=frozenset({'olive oil'}), confidence=0.20574162679425836, lift=3.1240241752707125)]),\n",
              " RelationRecord(items=frozenset({'shrimp', 'frozen vegetables', 'spaghetti'}), support=0.005999200106652446, ordered_statistics=[OrderedStatistic(items_base=frozenset({'spaghetti', 'frozen vegetables'}), items_add=frozenset({'shrimp'}), confidence=0.21531100478468898, lift=3.0131489680782684)]),\n",
              " RelationRecord(items=frozenset({'spaghetti', 'frozen vegetables', 'tomatoes'}), support=0.006665777896280496, ordered_statistics=[OrderedStatistic(items_base=frozenset({'spaghetti', 'frozen vegetables'}), items_add=frozenset({'tomatoes'}), confidence=0.23923444976076558, lift=3.4980460188216425), OrderedStatistic(items_base=frozenset({'spaghetti', 'tomatoes'}), items_add=frozenset({'frozen vegetables'}), confidence=0.3184713375796179, lift=3.341053850607991)]),\n",
              " RelationRecord(items=frozenset({'spaghetti', 'ground beef', 'grated cheese'}), support=0.005332622317024397, ordered_statistics=[OrderedStatistic(items_base=frozenset({'spaghetti', 'grated cheese'}), items_add=frozenset({'ground beef'}), confidence=0.3225806451612903, lift=3.283144395325426)]),\n",
              " RelationRecord(items=frozenset({'herb & pepper', 'ground beef', 'mineral water'}), support=0.006665777896280496, ordered_statistics=[OrderedStatistic(items_base=frozenset({'herb & pepper', 'mineral water'}), items_add=frozenset({'ground beef'}), confidence=0.39062500000000006, lift=3.975682666214383)]),\n",
              " RelationRecord(items=frozenset({'herb & pepper', 'ground beef', 'spaghetti'}), support=0.006399146780429276, ordered_statistics=[OrderedStatistic(items_base=frozenset({'herb & pepper', 'spaghetti'}), items_add=frozenset({'ground beef'}), confidence=0.3934426229508197, lift=4.004359721511667)]),\n",
              " RelationRecord(items=frozenset({'milk', 'ground beef', 'olive oil'}), support=0.004932675643247567, ordered_statistics=[OrderedStatistic(items_base=frozenset({'milk', 'ground beef'}), items_add=frozenset({'olive oil'}), confidence=0.22424242424242427, lift=3.40494417862839)]),\n",
              " RelationRecord(items=frozenset({'shrimp', 'ground beef', 'spaghetti'}), support=0.005999200106652446, ordered_statistics=[OrderedStatistic(items_base=frozenset({'shrimp', 'ground beef'}), items_add=frozenset({'spaghetti'}), confidence=0.5232558139534884, lift=3.005315360233627)]),\n",
              " RelationRecord(items=frozenset({'spaghetti', 'milk', 'olive oil'}), support=0.007199040127982935, ordered_statistics=[OrderedStatistic(items_base=frozenset({'spaghetti', 'milk'}), items_add=frozenset({'olive oil'}), confidence=0.20300751879699247, lift=3.0825089038385434)]),\n",
              " RelationRecord(items=frozenset({'mineral water', 'soup', 'olive oil'}), support=0.005199306759098787, ordered_statistics=[OrderedStatistic(items_base=frozenset({'mineral water', 'soup'}), items_add=frozenset({'olive oil'}), confidence=0.22543352601156072, lift=3.4230301186492245)]),\n",
              " RelationRecord(items=frozenset({'spaghetti', 'pancakes', 'olive oil'}), support=0.005065991201173177, ordered_statistics=[OrderedStatistic(items_base=frozenset({'spaghetti', 'pancakes'}), items_add=frozenset({'olive oil'}), confidence=0.20105820105820105, lift=3.0529100529100526)])]"
            ]
          },
          "metadata": {},
          "execution_count": 11
        }
      ]
    },
    {
      "cell_type": "code",
      "source": [
        "len(results)\n"
      ],
      "metadata": {
        "colab": {
          "base_uri": "https://localhost:8080/"
        },
        "id": "D7pGlTlhf8aA",
        "outputId": "f5f97ff8-98a4-4386-c9ed-7b9844f2133a"
      },
      "execution_count": 12,
      "outputs": [
        {
          "output_type": "execute_result",
          "data": {
            "text/plain": [
              "22"
            ]
          },
          "metadata": {},
          "execution_count": 12
        }
      ]
    },
    {
      "cell_type": "code",
      "source": [
        "list(results[0][0])\n"
      ],
      "metadata": {
        "colab": {
          "base_uri": "https://localhost:8080/"
        },
        "id": "n3qD72D5f8c-",
        "outputId": "2e2483b8-6494-49d2-eb51-275a04ce507b"
      },
      "execution_count": 13,
      "outputs": [
        {
          "output_type": "execute_result",
          "data": {
            "text/plain": [
              "['mushroom cream sauce', 'escalope']"
            ]
          },
          "metadata": {},
          "execution_count": 13
        }
      ]
    },
    {
      "cell_type": "code",
      "source": [
        "for i in results:\n",
        "  print(list(i[0]))"
      ],
      "metadata": {
        "colab": {
          "base_uri": "https://localhost:8080/"
        },
        "id": "zPsRvKLIf8gD",
        "outputId": "8ecfeac2-832a-42a0-d503-9fef49ab14f8"
      },
      "execution_count": 14,
      "outputs": [
        {
          "output_type": "stream",
          "name": "stdout",
          "text": [
            "['mushroom cream sauce', 'escalope']\n",
            "['pasta', 'escalope']\n",
            "['herb & pepper', 'ground beef']\n",
            "['ground beef', 'tomato sauce']\n",
            "['olive oil', 'whole wheat pasta']\n",
            "['shrimp', 'pasta']\n",
            "['shrimp', 'frozen vegetables', 'chocolate']\n",
            "['spaghetti', 'cooking oil', 'ground beef']\n",
            "['spaghetti', 'frozen vegetables', 'ground beef']\n",
            "['frozen vegetables', 'milk', 'olive oil']\n",
            "['mineral water', 'frozen vegetables', 'shrimp']\n",
            "['spaghetti', 'frozen vegetables', 'olive oil']\n",
            "['shrimp', 'frozen vegetables', 'spaghetti']\n",
            "['spaghetti', 'frozen vegetables', 'tomatoes']\n",
            "['spaghetti', 'ground beef', 'grated cheese']\n",
            "['herb & pepper', 'ground beef', 'mineral water']\n",
            "['herb & pepper', 'ground beef', 'spaghetti']\n",
            "['milk', 'ground beef', 'olive oil']\n",
            "['shrimp', 'ground beef', 'spaghetti']\n",
            "['spaghetti', 'milk', 'olive oil']\n",
            "['mineral water', 'soup', 'olive oil']\n",
            "['spaghetti', 'pancakes', 'olive oil']\n"
          ]
        }
      ]
    },
    {
      "cell_type": "markdown",
      "source": [
        "### Save the results in a text file\n"
      ],
      "metadata": {
        "id": "yqdquq-_nMGh"
      }
    },
    {
      "cell_type": "code",
      "source": [
        "\n",
        "with open(\"association_results.txt\", \"w\") as f:\n",
        "  for i in results:\n",
        "    f.write(str(i)+\"\\n===================================\\n\")"
      ],
      "metadata": {
        "id": "eCNaR39of8jF"
      },
      "execution_count": 15,
      "outputs": []
    },
    {
      "cell_type": "code",
      "source": [],
      "metadata": {
        "id": "HlYXkwm6f8mF"
      },
      "execution_count": 15,
      "outputs": []
    },
    {
      "cell_type": "code",
      "source": [],
      "metadata": {
        "id": "66G5DP1xf8pM"
      },
      "execution_count": 15,
      "outputs": []
    },
    {
      "cell_type": "code",
      "source": [],
      "metadata": {
        "id": "yNgw0f9hf8si"
      },
      "execution_count": 15,
      "outputs": []
    },
    {
      "cell_type": "code",
      "source": [],
      "metadata": {
        "id": "ZpGy4-vMf8vb"
      },
      "execution_count": 15,
      "outputs": []
    },
    {
      "cell_type": "code",
      "source": [],
      "metadata": {
        "id": "OpSw9tVlf8yW"
      },
      "execution_count": 15,
      "outputs": []
    },
    {
      "cell_type": "code",
      "source": [],
      "metadata": {
        "id": "WGXDCrLQf81e"
      },
      "execution_count": 15,
      "outputs": []
    },
    {
      "cell_type": "code",
      "source": [],
      "metadata": {
        "id": "mh9sOVPif84z"
      },
      "execution_count": 15,
      "outputs": []
    },
    {
      "cell_type": "code",
      "source": [],
      "metadata": {
        "id": "4Bggl2ccf88G"
      },
      "execution_count": 15,
      "outputs": []
    },
    {
      "cell_type": "code",
      "source": [],
      "metadata": {
        "id": "DIxhjlaWf8_U"
      },
      "execution_count": 15,
      "outputs": []
    }
  ]
}